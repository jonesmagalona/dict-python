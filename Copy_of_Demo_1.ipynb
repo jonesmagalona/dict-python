{
  "nbformat": 4,
  "nbformat_minor": 0,
  "metadata": {
    "colab": {
      "name": "Copy of Demo 1.ipynb",
      "provenance": [],
      "collapsed_sections": [],
      "toc_visible": true,
      "include_colab_link": true
    },
    "kernelspec": {
      "name": "python3",
      "display_name": "Python 3"
    },
    "language_info": {
      "name": "python"
    }
  },
  "cells": [
    {
      "cell_type": "markdown",
      "metadata": {
        "id": "view-in-github",
        "colab_type": "text"
      },
      "source": [
        "<a href=\"https://colab.research.google.com/github/jonesmagalona/dict-python/blob/main/Copy_of_Demo_1.ipynb\" target=\"_parent\"><img src=\"https://colab.research.google.com/assets/colab-badge.svg\" alt=\"Open In Colab\"/></a>"
      ]
    },
    {
      "cell_type": "markdown",
      "source": [
        "# Data Cleaning and Data Visualization"
      ],
      "metadata": {
        "id": "YIj_ZqTaGuBs"
      }
    },
    {
      "cell_type": "markdown",
      "source": [
        "- Your task is to clean and explore data for a non-profit organization focused on promoting and increasing youth literacy rates using this literacy rate data. They are particularly interested in understanding where they should focus their next project and what strategies to use to have the biggest impact in increasing youth literacy rates in that area.\n",
        "\n",
        "    1. The first step in this process is to clean the data to get it ready for analysis. You must:\n",
        "        - Identify and address any duplicate values\n",
        "        - Identify and address any missing values in this dataset. Deal with these appropriately. Include a brief description of the method you used to deal with missing values along with a justification for that method.\n",
        "        - Ensure all columns match the data types listed in the data dictionary.\n",
        "        - Identify and address any inconsistencies in categorical values (example: cat, Cat, cats)\n",
        "        - Identify and address any inappropriate or unusual data points (example: age cannot be 325)\n",
        "    2. The next step is to complete an exploration of the data. This should include:\n",
        "    - Two different types of univariate exploratory visualizations. Each visualization must include a brief interpretation within the code file.\n",
        "    - Two different types of multivariate exploratory visualizations.  Each visualization must include a brief interpretation within the code file.\n",
        "\n",
        "### Data Dictionary\n",
        "<img src=\"data:image/png;base64,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\">\n",
        "\n",
        "\\* *Literacy rate is calculated by taking the number of literate persons in that age and gender group divided by the total number of persons in that group. Literate is defined as the ability to both read and write, with understanding, a short, simple statement about everyday life. Literacy rates at or near 100% indicate that (nearly) every individual in that age range and gender group is able to read and write, at least at a basic level.*"
      ],
      "metadata": {
        "id": "lRW_Y66CVneu"
      }
    },
    {
      "cell_type": "code",
      "execution_count": 1,
      "metadata": {
        "id": "RUOAjXa7VbId"
      },
      "outputs": [],
      "source": [
        "# import libraries\n",
        "import pandas as pd\n",
        "import numpy as np\n",
        "import matplotlib.pyplot as plt\n",
        "import seaborn as sns"
      ]
    },
    {
      "cell_type": "code",
      "source": [
        "# load the dataset\n",
        "url = \"https://docs.google.com/spreadsheets/d/e/2PACX-1vQuC6rviL9XmnUCpTxHnq7qFOA_hwVNmqrYLYklMkJF4XsyX4NzkHx9NDI04QL6qgHae61larpzdmqd/pub?output=csv\"\n",
        "df = pd.read_csv(url)\n",
        "\n",
        "df.head()"
      ],
      "metadata": {
        "colab": {
          "base_uri": "https://localhost:8080/",
          "height": 206
        },
        "id": "gzZR7v1mP8lz",
        "outputId": "487f788c-d807-4a21-f5ac-31abeafa0337"
      },
      "execution_count": 2,
      "outputs": [
        {
          "output_type": "execute_result",
          "data": {
            "text/plain": [
              "                      Region      Country  Year    Age  Gender Literacy rate\n",
              "0  Central and Southern Asia  Afghanistan  2011    15+  female     0.1761206\n",
              "1  Central and Southern Asia  Afghanistan  2011    15+    male      0.454171\n",
              "2  Central and Southern Asia  Afghanistan  2011    15+   total     0.3174112\n",
              "3                        NaN  Afghanistan  2011  15-24  female     0.3211322\n",
              "4                        NaN  Afghanistan  2011  15-24    male     0.6187907"
            ],
            "text/html": [
              "\n",
              "  <div id=\"df-aa47fcec-9a19-4e1d-b0af-e592970496ba\">\n",
              "    <div class=\"colab-df-container\">\n",
              "      <div>\n",
              "<style scoped>\n",
              "    .dataframe tbody tr th:only-of-type {\n",
              "        vertical-align: middle;\n",
              "    }\n",
              "\n",
              "    .dataframe tbody tr th {\n",
              "        vertical-align: top;\n",
              "    }\n",
              "\n",
              "    .dataframe thead th {\n",
              "        text-align: right;\n",
              "    }\n",
              "</style>\n",
              "<table border=\"1\" class=\"dataframe\">\n",
              "  <thead>\n",
              "    <tr style=\"text-align: right;\">\n",
              "      <th></th>\n",
              "      <th>Region</th>\n",
              "      <th>Country</th>\n",
              "      <th>Year</th>\n",
              "      <th>Age</th>\n",
              "      <th>Gender</th>\n",
              "      <th>Literacy rate</th>\n",
              "    </tr>\n",
              "  </thead>\n",
              "  <tbody>\n",
              "    <tr>\n",
              "      <th>0</th>\n",
              "      <td>Central and Southern Asia</td>\n",
              "      <td>Afghanistan</td>\n",
              "      <td>2011</td>\n",
              "      <td>15+</td>\n",
              "      <td>female</td>\n",
              "      <td>0.1761206</td>\n",
              "    </tr>\n",
              "    <tr>\n",
              "      <th>1</th>\n",
              "      <td>Central and Southern Asia</td>\n",
              "      <td>Afghanistan</td>\n",
              "      <td>2011</td>\n",
              "      <td>15+</td>\n",
              "      <td>male</td>\n",
              "      <td>0.454171</td>\n",
              "    </tr>\n",
              "    <tr>\n",
              "      <th>2</th>\n",
              "      <td>Central and Southern Asia</td>\n",
              "      <td>Afghanistan</td>\n",
              "      <td>2011</td>\n",
              "      <td>15+</td>\n",
              "      <td>total</td>\n",
              "      <td>0.3174112</td>\n",
              "    </tr>\n",
              "    <tr>\n",
              "      <th>3</th>\n",
              "      <td>NaN</td>\n",
              "      <td>Afghanistan</td>\n",
              "      <td>2011</td>\n",
              "      <td>15-24</td>\n",
              "      <td>female</td>\n",
              "      <td>0.3211322</td>\n",
              "    </tr>\n",
              "    <tr>\n",
              "      <th>4</th>\n",
              "      <td>NaN</td>\n",
              "      <td>Afghanistan</td>\n",
              "      <td>2011</td>\n",
              "      <td>15-24</td>\n",
              "      <td>male</td>\n",
              "      <td>0.6187907</td>\n",
              "    </tr>\n",
              "  </tbody>\n",
              "</table>\n",
              "</div>\n",
              "      <button class=\"colab-df-convert\" onclick=\"convertToInteractive('df-aa47fcec-9a19-4e1d-b0af-e592970496ba')\"\n",
              "              title=\"Convert this dataframe to an interactive table.\"\n",
              "              style=\"display:none;\">\n",
              "        \n",
              "  <svg xmlns=\"http://www.w3.org/2000/svg\" height=\"24px\"viewBox=\"0 0 24 24\"\n",
              "       width=\"24px\">\n",
              "    <path d=\"M0 0h24v24H0V0z\" fill=\"none\"/>\n",
              "    <path d=\"M18.56 5.44l.94 2.06.94-2.06 2.06-.94-2.06-.94-.94-2.06-.94 2.06-2.06.94zm-11 1L8.5 8.5l.94-2.06 2.06-.94-2.06-.94L8.5 2.5l-.94 2.06-2.06.94zm10 10l.94 2.06.94-2.06 2.06-.94-2.06-.94-.94-2.06-.94 2.06-2.06.94z\"/><path d=\"M17.41 7.96l-1.37-1.37c-.4-.4-.92-.59-1.43-.59-.52 0-1.04.2-1.43.59L10.3 9.45l-7.72 7.72c-.78.78-.78 2.05 0 2.83L4 21.41c.39.39.9.59 1.41.59.51 0 1.02-.2 1.41-.59l7.78-7.78 2.81-2.81c.8-.78.8-2.07 0-2.86zM5.41 20L4 18.59l7.72-7.72 1.47 1.35L5.41 20z\"/>\n",
              "  </svg>\n",
              "      </button>\n",
              "      \n",
              "  <style>\n",
              "    .colab-df-container {\n",
              "      display:flex;\n",
              "      flex-wrap:wrap;\n",
              "      gap: 12px;\n",
              "    }\n",
              "\n",
              "    .colab-df-convert {\n",
              "      background-color: #E8F0FE;\n",
              "      border: none;\n",
              "      border-radius: 50%;\n",
              "      cursor: pointer;\n",
              "      display: none;\n",
              "      fill: #1967D2;\n",
              "      height: 32px;\n",
              "      padding: 0 0 0 0;\n",
              "      width: 32px;\n",
              "    }\n",
              "\n",
              "    .colab-df-convert:hover {\n",
              "      background-color: #E2EBFA;\n",
              "      box-shadow: 0px 1px 2px rgba(60, 64, 67, 0.3), 0px 1px 3px 1px rgba(60, 64, 67, 0.15);\n",
              "      fill: #174EA6;\n",
              "    }\n",
              "\n",
              "    [theme=dark] .colab-df-convert {\n",
              "      background-color: #3B4455;\n",
              "      fill: #D2E3FC;\n",
              "    }\n",
              "\n",
              "    [theme=dark] .colab-df-convert:hover {\n",
              "      background-color: #434B5C;\n",
              "      box-shadow: 0px 1px 3px 1px rgba(0, 0, 0, 0.15);\n",
              "      filter: drop-shadow(0px 1px 2px rgba(0, 0, 0, 0.3));\n",
              "      fill: #FFFFFF;\n",
              "    }\n",
              "  </style>\n",
              "\n",
              "      <script>\n",
              "        const buttonEl =\n",
              "          document.querySelector('#df-aa47fcec-9a19-4e1d-b0af-e592970496ba button.colab-df-convert');\n",
              "        buttonEl.style.display =\n",
              "          google.colab.kernel.accessAllowed ? 'block' : 'none';\n",
              "\n",
              "        async function convertToInteractive(key) {\n",
              "          const element = document.querySelector('#df-aa47fcec-9a19-4e1d-b0af-e592970496ba');\n",
              "          const dataTable =\n",
              "            await google.colab.kernel.invokeFunction('convertToInteractive',\n",
              "                                                     [key], {});\n",
              "          if (!dataTable) return;\n",
              "\n",
              "          const docLinkHtml = 'Like what you see? Visit the ' +\n",
              "            '<a target=\"_blank\" href=https://colab.research.google.com/notebooks/data_table.ipynb>data table notebook</a>'\n",
              "            + ' to learn more about interactive tables.';\n",
              "          element.innerHTML = '';\n",
              "          dataTable['output_type'] = 'display_data';\n",
              "          await google.colab.output.renderOutput(dataTable, element);\n",
              "          const docLink = document.createElement('div');\n",
              "          docLink.innerHTML = docLinkHtml;\n",
              "          element.appendChild(docLink);\n",
              "        }\n",
              "      </script>\n",
              "    </div>\n",
              "  </div>\n",
              "  "
            ]
          },
          "metadata": {},
          "execution_count": 2
        }
      ]
    },
    {
      "cell_type": "code",
      "source": [
        "# get overview of data\n",
        "df.info()"
      ],
      "metadata": {
        "colab": {
          "base_uri": "https://localhost:8080/"
        },
        "id": "Vn_XwbPjXpkd",
        "outputId": "b05d297c-5600-4a13-ac02-13bf303df518"
      },
      "execution_count": 3,
      "outputs": [
        {
          "output_type": "stream",
          "name": "stdout",
          "text": [
            "<class 'pandas.core.frame.DataFrame'>\n",
            "RangeIndex: 4955 entries, 0 to 4954\n",
            "Data columns (total 6 columns):\n",
            " #   Column         Non-Null Count  Dtype \n",
            "---  ------         --------------  ----- \n",
            " 0   Region         4950 non-null   object\n",
            " 1   Country        4955 non-null   object\n",
            " 2   Year           4955 non-null   int64 \n",
            " 3   Age            4955 non-null   object\n",
            " 4   Gender         4955 non-null   object\n",
            " 5   Literacy rate  4955 non-null   object\n",
            "dtypes: int64(1), object(5)\n",
            "memory usage: 232.4+ KB\n"
          ]
        }
      ]
    },
    {
      "cell_type": "markdown",
      "source": [
        "## Data Cleaning"
      ],
      "metadata": {
        "id": "oEBVXPSTbBdX"
      }
    },
    {
      "cell_type": "markdown",
      "source": [
        "### Identify and address any duplicate values"
      ],
      "metadata": {
        "id": "vfoKyPa8YQrp"
      }
    },
    {
      "cell_type": "code",
      "source": [
        "df.duplicated().sum()"
      ],
      "metadata": {
        "colab": {
          "base_uri": "https://localhost:8080/"
        },
        "id": "rui_IzIsX0OJ",
        "outputId": "5d5fda54-fa81-455d-fbc0-90b5cb70bfed"
      },
      "execution_count": 4,
      "outputs": [
        {
          "output_type": "execute_result",
          "data": {
            "text/plain": [
              "0"
            ]
          },
          "metadata": {},
          "execution_count": 4
        }
      ]
    },
    {
      "cell_type": "markdown",
      "source": [
        "- There were no duplicates in this data\n"
      ],
      "metadata": {
        "id": "uoHYa9ZBYe1i"
      }
    },
    {
      "cell_type": "markdown",
      "source": [
        "### Handle Missing Values"
      ],
      "metadata": {
        "id": "5EgxKKCHYvVI"
      }
    },
    {
      "cell_type": "code",
      "source": [
        "df.isna().sum()"
      ],
      "metadata": {
        "colab": {
          "base_uri": "https://localhost:8080/"
        },
        "id": "zRHx-mxGYbXG",
        "outputId": "612dd5c3-8b70-4fe9-a2b1-c1ba53694108"
      },
      "execution_count": 5,
      "outputs": [
        {
          "output_type": "execute_result",
          "data": {
            "text/plain": [
              "Region           5\n",
              "Country          0\n",
              "Year             0\n",
              "Age              0\n",
              "Gender           0\n",
              "Literacy rate    0\n",
              "dtype: int64"
            ]
          },
          "metadata": {},
          "execution_count": 5
        }
      ]
    },
    {
      "cell_type": "markdown",
      "source": [
        "- There are 5 missing values in the Region Column.\n"
      ],
      "metadata": {
        "id": "76_GM0-AZA73"
      }
    },
    {
      "cell_type": "code",
      "source": [
        "# select the samples that has missing values in the Region column\n",
        "df[df['Region'].isna()]"
      ],
      "metadata": {
        "colab": {
          "base_uri": "https://localhost:8080/",
          "height": 206
        },
        "id": "q0Gm1HOkZZ_w",
        "outputId": "4d8d866c-6e63-4c64-f417-1539f6bce72d"
      },
      "execution_count": 6,
      "outputs": [
        {
          "output_type": "execute_result",
          "data": {
            "text/plain": [
              "    Region      Country  Year    Age  Gender Literacy rate\n",
              "3      NaN  Afghanistan  2011  15-24  female     0.3211322\n",
              "4      NaN  Afghanistan  2011  15-24    male     0.6187907\n",
              "464    NaN   Uzbekistan  2016    65+  female     0.9966975\n",
              "465    NaN   Uzbekistan  2016    65+    male     0.9990176\n",
              "466    NaN   Uzbekistan  2016    65+   total     0.9977188"
            ],
            "text/html": [
              "\n",
              "  <div id=\"df-7ba2b00f-c605-46b8-ac0a-9e0176d7b6d8\">\n",
              "    <div class=\"colab-df-container\">\n",
              "      <div>\n",
              "<style scoped>\n",
              "    .dataframe tbody tr th:only-of-type {\n",
              "        vertical-align: middle;\n",
              "    }\n",
              "\n",
              "    .dataframe tbody tr th {\n",
              "        vertical-align: top;\n",
              "    }\n",
              "\n",
              "    .dataframe thead th {\n",
              "        text-align: right;\n",
              "    }\n",
              "</style>\n",
              "<table border=\"1\" class=\"dataframe\">\n",
              "  <thead>\n",
              "    <tr style=\"text-align: right;\">\n",
              "      <th></th>\n",
              "      <th>Region</th>\n",
              "      <th>Country</th>\n",
              "      <th>Year</th>\n",
              "      <th>Age</th>\n",
              "      <th>Gender</th>\n",
              "      <th>Literacy rate</th>\n",
              "    </tr>\n",
              "  </thead>\n",
              "  <tbody>\n",
              "    <tr>\n",
              "      <th>3</th>\n",
              "      <td>NaN</td>\n",
              "      <td>Afghanistan</td>\n",
              "      <td>2011</td>\n",
              "      <td>15-24</td>\n",
              "      <td>female</td>\n",
              "      <td>0.3211322</td>\n",
              "    </tr>\n",
              "    <tr>\n",
              "      <th>4</th>\n",
              "      <td>NaN</td>\n",
              "      <td>Afghanistan</td>\n",
              "      <td>2011</td>\n",
              "      <td>15-24</td>\n",
              "      <td>male</td>\n",
              "      <td>0.6187907</td>\n",
              "    </tr>\n",
              "    <tr>\n",
              "      <th>464</th>\n",
              "      <td>NaN</td>\n",
              "      <td>Uzbekistan</td>\n",
              "      <td>2016</td>\n",
              "      <td>65+</td>\n",
              "      <td>female</td>\n",
              "      <td>0.9966975</td>\n",
              "    </tr>\n",
              "    <tr>\n",
              "      <th>465</th>\n",
              "      <td>NaN</td>\n",
              "      <td>Uzbekistan</td>\n",
              "      <td>2016</td>\n",
              "      <td>65+</td>\n",
              "      <td>male</td>\n",
              "      <td>0.9990176</td>\n",
              "    </tr>\n",
              "    <tr>\n",
              "      <th>466</th>\n",
              "      <td>NaN</td>\n",
              "      <td>Uzbekistan</td>\n",
              "      <td>2016</td>\n",
              "      <td>65+</td>\n",
              "      <td>total</td>\n",
              "      <td>0.9977188</td>\n",
              "    </tr>\n",
              "  </tbody>\n",
              "</table>\n",
              "</div>\n",
              "      <button class=\"colab-df-convert\" onclick=\"convertToInteractive('df-7ba2b00f-c605-46b8-ac0a-9e0176d7b6d8')\"\n",
              "              title=\"Convert this dataframe to an interactive table.\"\n",
              "              style=\"display:none;\">\n",
              "        \n",
              "  <svg xmlns=\"http://www.w3.org/2000/svg\" height=\"24px\"viewBox=\"0 0 24 24\"\n",
              "       width=\"24px\">\n",
              "    <path d=\"M0 0h24v24H0V0z\" fill=\"none\"/>\n",
              "    <path d=\"M18.56 5.44l.94 2.06.94-2.06 2.06-.94-2.06-.94-.94-2.06-.94 2.06-2.06.94zm-11 1L8.5 8.5l.94-2.06 2.06-.94-2.06-.94L8.5 2.5l-.94 2.06-2.06.94zm10 10l.94 2.06.94-2.06 2.06-.94-2.06-.94-.94-2.06-.94 2.06-2.06.94z\"/><path d=\"M17.41 7.96l-1.37-1.37c-.4-.4-.92-.59-1.43-.59-.52 0-1.04.2-1.43.59L10.3 9.45l-7.72 7.72c-.78.78-.78 2.05 0 2.83L4 21.41c.39.39.9.59 1.41.59.51 0 1.02-.2 1.41-.59l7.78-7.78 2.81-2.81c.8-.78.8-2.07 0-2.86zM5.41 20L4 18.59l7.72-7.72 1.47 1.35L5.41 20z\"/>\n",
              "  </svg>\n",
              "      </button>\n",
              "      \n",
              "  <style>\n",
              "    .colab-df-container {\n",
              "      display:flex;\n",
              "      flex-wrap:wrap;\n",
              "      gap: 12px;\n",
              "    }\n",
              "\n",
              "    .colab-df-convert {\n",
              "      background-color: #E8F0FE;\n",
              "      border: none;\n",
              "      border-radius: 50%;\n",
              "      cursor: pointer;\n",
              "      display: none;\n",
              "      fill: #1967D2;\n",
              "      height: 32px;\n",
              "      padding: 0 0 0 0;\n",
              "      width: 32px;\n",
              "    }\n",
              "\n",
              "    .colab-df-convert:hover {\n",
              "      background-color: #E2EBFA;\n",
              "      box-shadow: 0px 1px 2px rgba(60, 64, 67, 0.3), 0px 1px 3px 1px rgba(60, 64, 67, 0.15);\n",
              "      fill: #174EA6;\n",
              "    }\n",
              "\n",
              "    [theme=dark] .colab-df-convert {\n",
              "      background-color: #3B4455;\n",
              "      fill: #D2E3FC;\n",
              "    }\n",
              "\n",
              "    [theme=dark] .colab-df-convert:hover {\n",
              "      background-color: #434B5C;\n",
              "      box-shadow: 0px 1px 3px 1px rgba(0, 0, 0, 0.15);\n",
              "      filter: drop-shadow(0px 1px 2px rgba(0, 0, 0, 0.3));\n",
              "      fill: #FFFFFF;\n",
              "    }\n",
              "  </style>\n",
              "\n",
              "      <script>\n",
              "        const buttonEl =\n",
              "          document.querySelector('#df-7ba2b00f-c605-46b8-ac0a-9e0176d7b6d8 button.colab-df-convert');\n",
              "        buttonEl.style.display =\n",
              "          google.colab.kernel.accessAllowed ? 'block' : 'none';\n",
              "\n",
              "        async function convertToInteractive(key) {\n",
              "          const element = document.querySelector('#df-7ba2b00f-c605-46b8-ac0a-9e0176d7b6d8');\n",
              "          const dataTable =\n",
              "            await google.colab.kernel.invokeFunction('convertToInteractive',\n",
              "                                                     [key], {});\n",
              "          if (!dataTable) return;\n",
              "\n",
              "          const docLinkHtml = 'Like what you see? Visit the ' +\n",
              "            '<a target=\"_blank\" href=https://colab.research.google.com/notebooks/data_table.ipynb>data table notebook</a>'\n",
              "            + ' to learn more about interactive tables.';\n",
              "          element.innerHTML = '';\n",
              "          dataTable['output_type'] = 'display_data';\n",
              "          await google.colab.output.renderOutput(dataTable, element);\n",
              "          const docLink = document.createElement('div');\n",
              "          docLink.innerHTML = docLinkHtml;\n",
              "          element.appendChild(docLink);\n",
              "        }\n",
              "      </script>\n",
              "    </div>\n",
              "  </div>\n",
              "  "
            ]
          },
          "metadata": {},
          "execution_count": 6
        }
      ]
    },
    {
      "cell_type": "code",
      "source": [
        "# check to see if rows with same county exist\n",
        "# if so, what is the region value\n",
        "a_filter = df['Country']=='Afghanistan'\n",
        "u_filter = df['Country']=='Uzbekistan'\n",
        "\n",
        "df[u_filter]"
      ],
      "metadata": {
        "colab": {
          "base_uri": "https://localhost:8080/",
          "height": 1000
        },
        "id": "sMSHsEBKZjOT",
        "outputId": "f7fe70cc-12a4-42d3-f0c2-0d01973b1848"
      },
      "execution_count": 7,
      "outputs": [
        {
          "output_type": "execute_result",
          "data": {
            "text/plain": [
              "                        Region     Country  Year    Age  Gender Literacy rate\n",
              "419  Central and Southern Asia  Uzbekistan  2013    15+  female     0.9999587\n",
              "420  Central and Southern Asia  Uzbekistan  2013    15+    male     0.9999383\n",
              "421  Central and Southern Asia  Uzbekistan  2013    15+   total     0.9999486\n",
              "422  Central and Southern Asia  Uzbekistan  2013  15-24  female             1\n",
              "423  Central and Southern Asia  Uzbekistan  2013  15-24    male             1\n",
              "424  Central and Southern Asia  Uzbekistan  2013  15-24   total             1\n",
              "425  Central and Southern Asia  Uzbekistan  2013  25-64  female             1\n",
              "426  Central and Southern Asia  Uzbekistan  2013  25-64    male             1\n",
              "427  Central and Southern Asia  Uzbekistan  2013  25-64   total             1\n",
              "428  Central and Southern Asia  Uzbekistan  2013    65+  female     0.9993467\n",
              "429  Central and Southern Asia  Uzbekistan  2013    65+    male     0.9987719\n",
              "430  Central and Southern Asia  Uzbekistan  2013    65+   total      0.999095\n",
              "431  Central and Southern Asia  Uzbekistan  2014    15+  female     0.9997599\n",
              "432  Central and Southern Asia  Uzbekistan  2014    15+    male     0.9998519\n",
              "433  Central and Southern Asia  Uzbekistan  2014    15+   total     0.9998055\n",
              "434  Central and Southern Asia  Uzbekistan  2014  15-24  female             1\n",
              "435  Central and Southern Asia  Uzbekistan  2014  15-24    male             1\n",
              "436  Central and Southern Asia  Uzbekistan  2014  15-24   total             1\n",
              "437  Central and Southern Asia  Uzbekistan  2014  25-64  female             1\n",
              "438  Central and Southern Asia  Uzbekistan  2014  25-64    male             1\n",
              "439  Central and Southern Asia  Uzbekistan  2014  25-64   total             1\n",
              "440  Central and Southern Asia  Uzbekistan  2014    65+  female     0.9962151\n",
              "441  Central and Southern Asia  Uzbekistan  2014    65+    male     0.9970674\n",
              "442  Central and Southern Asia  Uzbekistan  2014    65+   total     0.9965888\n",
              "443  Central and Southern Asia  Uzbekistan  2015    15+  female     0.9997577\n",
              "444  Central and Southern Asia  Uzbekistan  2015    15+    male     0.9999204\n",
              "445  Central and Southern Asia  Uzbekistan  2015    15+   total     0.9998383\n",
              "446  Central and Southern Asia  Uzbekistan  2015  15-24  female             1\n",
              "447  Central and Southern Asia  Uzbekistan  2015  15-24    male             1\n",
              "448  Central and Southern Asia  Uzbekistan  2015  15-24   total             1\n",
              "449  Central and Southern Asia  Uzbekistan  2015  25-64  female             1\n",
              "450  Central and Southern Asia  Uzbekistan  2015  25-64    male             1\n",
              "451  Central and Southern Asia  Uzbekistan  2015  25-64   total             1\n",
              "452  Central and Southern Asia  Uzbekistan  2015    65+  female      0.996261\n",
              "453  Central and Southern Asia  Uzbekistan  2015    65+    male     0.9984595\n",
              "454  Central and Southern Asia  Uzbekistan  2015    65+   total     0.9972267\n",
              "455  Central and Southern Asia  Uzbekistan  2016    15+  female     0.9997841\n",
              "456  Central and Southern Asia  Uzbekistan  2016    15+    male     0.9999487\n",
              "457  Central and Southern Asia  Uzbekistan  2016    15+   total     0.9998657\n",
              "458  Central and Southern Asia  Uzbekistan  2016  15-24  female             1\n",
              "459  Central and Southern Asia  Uzbekistan  2016  15-24    male             1\n",
              "460  Central and Southern Asia  Uzbekistan  2016  15-24   total             1\n",
              "461  Central and Southern Asia  Uzbekistan  2016  25-64  female             1\n",
              "462  Central and Southern Asia  Uzbekistan  2016  25-64    male             1\n",
              "463  Central and Southern Asia  Uzbekistan  2016  25-64   total             1\n",
              "464                        NaN  Uzbekistan  2016    65+  female     0.9966975\n",
              "465                        NaN  Uzbekistan  2016    65+    male     0.9990176\n",
              "466                        NaN  Uzbekistan  2016    65+   total     0.9977188"
            ],
            "text/html": [
              "\n",
              "  <div id=\"df-1ec553f3-a814-49d7-b74c-12af13109fea\">\n",
              "    <div class=\"colab-df-container\">\n",
              "      <div>\n",
              "<style scoped>\n",
              "    .dataframe tbody tr th:only-of-type {\n",
              "        vertical-align: middle;\n",
              "    }\n",
              "\n",
              "    .dataframe tbody tr th {\n",
              "        vertical-align: top;\n",
              "    }\n",
              "\n",
              "    .dataframe thead th {\n",
              "        text-align: right;\n",
              "    }\n",
              "</style>\n",
              "<table border=\"1\" class=\"dataframe\">\n",
              "  <thead>\n",
              "    <tr style=\"text-align: right;\">\n",
              "      <th></th>\n",
              "      <th>Region</th>\n",
              "      <th>Country</th>\n",
              "      <th>Year</th>\n",
              "      <th>Age</th>\n",
              "      <th>Gender</th>\n",
              "      <th>Literacy rate</th>\n",
              "    </tr>\n",
              "  </thead>\n",
              "  <tbody>\n",
              "    <tr>\n",
              "      <th>419</th>\n",
              "      <td>Central and Southern Asia</td>\n",
              "      <td>Uzbekistan</td>\n",
              "      <td>2013</td>\n",
              "      <td>15+</td>\n",
              "      <td>female</td>\n",
              "      <td>0.9999587</td>\n",
              "    </tr>\n",
              "    <tr>\n",
              "      <th>420</th>\n",
              "      <td>Central and Southern Asia</td>\n",
              "      <td>Uzbekistan</td>\n",
              "      <td>2013</td>\n",
              "      <td>15+</td>\n",
              "      <td>male</td>\n",
              "      <td>0.9999383</td>\n",
              "    </tr>\n",
              "    <tr>\n",
              "      <th>421</th>\n",
              "      <td>Central and Southern Asia</td>\n",
              "      <td>Uzbekistan</td>\n",
              "      <td>2013</td>\n",
              "      <td>15+</td>\n",
              "      <td>total</td>\n",
              "      <td>0.9999486</td>\n",
              "    </tr>\n",
              "    <tr>\n",
              "      <th>422</th>\n",
              "      <td>Central and Southern Asia</td>\n",
              "      <td>Uzbekistan</td>\n",
              "      <td>2013</td>\n",
              "      <td>15-24</td>\n",
              "      <td>female</td>\n",
              "      <td>1</td>\n",
              "    </tr>\n",
              "    <tr>\n",
              "      <th>423</th>\n",
              "      <td>Central and Southern Asia</td>\n",
              "      <td>Uzbekistan</td>\n",
              "      <td>2013</td>\n",
              "      <td>15-24</td>\n",
              "      <td>male</td>\n",
              "      <td>1</td>\n",
              "    </tr>\n",
              "    <tr>\n",
              "      <th>424</th>\n",
              "      <td>Central and Southern Asia</td>\n",
              "      <td>Uzbekistan</td>\n",
              "      <td>2013</td>\n",
              "      <td>15-24</td>\n",
              "      <td>total</td>\n",
              "      <td>1</td>\n",
              "    </tr>\n",
              "    <tr>\n",
              "      <th>425</th>\n",
              "      <td>Central and Southern Asia</td>\n",
              "      <td>Uzbekistan</td>\n",
              "      <td>2013</td>\n",
              "      <td>25-64</td>\n",
              "      <td>female</td>\n",
              "      <td>1</td>\n",
              "    </tr>\n",
              "    <tr>\n",
              "      <th>426</th>\n",
              "      <td>Central and Southern Asia</td>\n",
              "      <td>Uzbekistan</td>\n",
              "      <td>2013</td>\n",
              "      <td>25-64</td>\n",
              "      <td>male</td>\n",
              "      <td>1</td>\n",
              "    </tr>\n",
              "    <tr>\n",
              "      <th>427</th>\n",
              "      <td>Central and Southern Asia</td>\n",
              "      <td>Uzbekistan</td>\n",
              "      <td>2013</td>\n",
              "      <td>25-64</td>\n",
              "      <td>total</td>\n",
              "      <td>1</td>\n",
              "    </tr>\n",
              "    <tr>\n",
              "      <th>428</th>\n",
              "      <td>Central and Southern Asia</td>\n",
              "      <td>Uzbekistan</td>\n",
              "      <td>2013</td>\n",
              "      <td>65+</td>\n",
              "      <td>female</td>\n",
              "      <td>0.9993467</td>\n",
              "    </tr>\n",
              "    <tr>\n",
              "      <th>429</th>\n",
              "      <td>Central and Southern Asia</td>\n",
              "      <td>Uzbekistan</td>\n",
              "      <td>2013</td>\n",
              "      <td>65+</td>\n",
              "      <td>male</td>\n",
              "      <td>0.9987719</td>\n",
              "    </tr>\n",
              "    <tr>\n",
              "      <th>430</th>\n",
              "      <td>Central and Southern Asia</td>\n",
              "      <td>Uzbekistan</td>\n",
              "      <td>2013</td>\n",
              "      <td>65+</td>\n",
              "      <td>total</td>\n",
              "      <td>0.999095</td>\n",
              "    </tr>\n",
              "    <tr>\n",
              "      <th>431</th>\n",
              "      <td>Central and Southern Asia</td>\n",
              "      <td>Uzbekistan</td>\n",
              "      <td>2014</td>\n",
              "      <td>15+</td>\n",
              "      <td>female</td>\n",
              "      <td>0.9997599</td>\n",
              "    </tr>\n",
              "    <tr>\n",
              "      <th>432</th>\n",
              "      <td>Central and Southern Asia</td>\n",
              "      <td>Uzbekistan</td>\n",
              "      <td>2014</td>\n",
              "      <td>15+</td>\n",
              "      <td>male</td>\n",
              "      <td>0.9998519</td>\n",
              "    </tr>\n",
              "    <tr>\n",
              "      <th>433</th>\n",
              "      <td>Central and Southern Asia</td>\n",
              "      <td>Uzbekistan</td>\n",
              "      <td>2014</td>\n",
              "      <td>15+</td>\n",
              "      <td>total</td>\n",
              "      <td>0.9998055</td>\n",
              "    </tr>\n",
              "    <tr>\n",
              "      <th>434</th>\n",
              "      <td>Central and Southern Asia</td>\n",
              "      <td>Uzbekistan</td>\n",
              "      <td>2014</td>\n",
              "      <td>15-24</td>\n",
              "      <td>female</td>\n",
              "      <td>1</td>\n",
              "    </tr>\n",
              "    <tr>\n",
              "      <th>435</th>\n",
              "      <td>Central and Southern Asia</td>\n",
              "      <td>Uzbekistan</td>\n",
              "      <td>2014</td>\n",
              "      <td>15-24</td>\n",
              "      <td>male</td>\n",
              "      <td>1</td>\n",
              "    </tr>\n",
              "    <tr>\n",
              "      <th>436</th>\n",
              "      <td>Central and Southern Asia</td>\n",
              "      <td>Uzbekistan</td>\n",
              "      <td>2014</td>\n",
              "      <td>15-24</td>\n",
              "      <td>total</td>\n",
              "      <td>1</td>\n",
              "    </tr>\n",
              "    <tr>\n",
              "      <th>437</th>\n",
              "      <td>Central and Southern Asia</td>\n",
              "      <td>Uzbekistan</td>\n",
              "      <td>2014</td>\n",
              "      <td>25-64</td>\n",
              "      <td>female</td>\n",
              "      <td>1</td>\n",
              "    </tr>\n",
              "    <tr>\n",
              "      <th>438</th>\n",
              "      <td>Central and Southern Asia</td>\n",
              "      <td>Uzbekistan</td>\n",
              "      <td>2014</td>\n",
              "      <td>25-64</td>\n",
              "      <td>male</td>\n",
              "      <td>1</td>\n",
              "    </tr>\n",
              "    <tr>\n",
              "      <th>439</th>\n",
              "      <td>Central and Southern Asia</td>\n",
              "      <td>Uzbekistan</td>\n",
              "      <td>2014</td>\n",
              "      <td>25-64</td>\n",
              "      <td>total</td>\n",
              "      <td>1</td>\n",
              "    </tr>\n",
              "    <tr>\n",
              "      <th>440</th>\n",
              "      <td>Central and Southern Asia</td>\n",
              "      <td>Uzbekistan</td>\n",
              "      <td>2014</td>\n",
              "      <td>65+</td>\n",
              "      <td>female</td>\n",
              "      <td>0.9962151</td>\n",
              "    </tr>\n",
              "    <tr>\n",
              "      <th>441</th>\n",
              "      <td>Central and Southern Asia</td>\n",
              "      <td>Uzbekistan</td>\n",
              "      <td>2014</td>\n",
              "      <td>65+</td>\n",
              "      <td>male</td>\n",
              "      <td>0.9970674</td>\n",
              "    </tr>\n",
              "    <tr>\n",
              "      <th>442</th>\n",
              "      <td>Central and Southern Asia</td>\n",
              "      <td>Uzbekistan</td>\n",
              "      <td>2014</td>\n",
              "      <td>65+</td>\n",
              "      <td>total</td>\n",
              "      <td>0.9965888</td>\n",
              "    </tr>\n",
              "    <tr>\n",
              "      <th>443</th>\n",
              "      <td>Central and Southern Asia</td>\n",
              "      <td>Uzbekistan</td>\n",
              "      <td>2015</td>\n",
              "      <td>15+</td>\n",
              "      <td>female</td>\n",
              "      <td>0.9997577</td>\n",
              "    </tr>\n",
              "    <tr>\n",
              "      <th>444</th>\n",
              "      <td>Central and Southern Asia</td>\n",
              "      <td>Uzbekistan</td>\n",
              "      <td>2015</td>\n",
              "      <td>15+</td>\n",
              "      <td>male</td>\n",
              "      <td>0.9999204</td>\n",
              "    </tr>\n",
              "    <tr>\n",
              "      <th>445</th>\n",
              "      <td>Central and Southern Asia</td>\n",
              "      <td>Uzbekistan</td>\n",
              "      <td>2015</td>\n",
              "      <td>15+</td>\n",
              "      <td>total</td>\n",
              "      <td>0.9998383</td>\n",
              "    </tr>\n",
              "    <tr>\n",
              "      <th>446</th>\n",
              "      <td>Central and Southern Asia</td>\n",
              "      <td>Uzbekistan</td>\n",
              "      <td>2015</td>\n",
              "      <td>15-24</td>\n",
              "      <td>female</td>\n",
              "      <td>1</td>\n",
              "    </tr>\n",
              "    <tr>\n",
              "      <th>447</th>\n",
              "      <td>Central and Southern Asia</td>\n",
              "      <td>Uzbekistan</td>\n",
              "      <td>2015</td>\n",
              "      <td>15-24</td>\n",
              "      <td>male</td>\n",
              "      <td>1</td>\n",
              "    </tr>\n",
              "    <tr>\n",
              "      <th>448</th>\n",
              "      <td>Central and Southern Asia</td>\n",
              "      <td>Uzbekistan</td>\n",
              "      <td>2015</td>\n",
              "      <td>15-24</td>\n",
              "      <td>total</td>\n",
              "      <td>1</td>\n",
              "    </tr>\n",
              "    <tr>\n",
              "      <th>449</th>\n",
              "      <td>Central and Southern Asia</td>\n",
              "      <td>Uzbekistan</td>\n",
              "      <td>2015</td>\n",
              "      <td>25-64</td>\n",
              "      <td>female</td>\n",
              "      <td>1</td>\n",
              "    </tr>\n",
              "    <tr>\n",
              "      <th>450</th>\n",
              "      <td>Central and Southern Asia</td>\n",
              "      <td>Uzbekistan</td>\n",
              "      <td>2015</td>\n",
              "      <td>25-64</td>\n",
              "      <td>male</td>\n",
              "      <td>1</td>\n",
              "    </tr>\n",
              "    <tr>\n",
              "      <th>451</th>\n",
              "      <td>Central and Southern Asia</td>\n",
              "      <td>Uzbekistan</td>\n",
              "      <td>2015</td>\n",
              "      <td>25-64</td>\n",
              "      <td>total</td>\n",
              "      <td>1</td>\n",
              "    </tr>\n",
              "    <tr>\n",
              "      <th>452</th>\n",
              "      <td>Central and Southern Asia</td>\n",
              "      <td>Uzbekistan</td>\n",
              "      <td>2015</td>\n",
              "      <td>65+</td>\n",
              "      <td>female</td>\n",
              "      <td>0.996261</td>\n",
              "    </tr>\n",
              "    <tr>\n",
              "      <th>453</th>\n",
              "      <td>Central and Southern Asia</td>\n",
              "      <td>Uzbekistan</td>\n",
              "      <td>2015</td>\n",
              "      <td>65+</td>\n",
              "      <td>male</td>\n",
              "      <td>0.9984595</td>\n",
              "    </tr>\n",
              "    <tr>\n",
              "      <th>454</th>\n",
              "      <td>Central and Southern Asia</td>\n",
              "      <td>Uzbekistan</td>\n",
              "      <td>2015</td>\n",
              "      <td>65+</td>\n",
              "      <td>total</td>\n",
              "      <td>0.9972267</td>\n",
              "    </tr>\n",
              "    <tr>\n",
              "      <th>455</th>\n",
              "      <td>Central and Southern Asia</td>\n",
              "      <td>Uzbekistan</td>\n",
              "      <td>2016</td>\n",
              "      <td>15+</td>\n",
              "      <td>female</td>\n",
              "      <td>0.9997841</td>\n",
              "    </tr>\n",
              "    <tr>\n",
              "      <th>456</th>\n",
              "      <td>Central and Southern Asia</td>\n",
              "      <td>Uzbekistan</td>\n",
              "      <td>2016</td>\n",
              "      <td>15+</td>\n",
              "      <td>male</td>\n",
              "      <td>0.9999487</td>\n",
              "    </tr>\n",
              "    <tr>\n",
              "      <th>457</th>\n",
              "      <td>Central and Southern Asia</td>\n",
              "      <td>Uzbekistan</td>\n",
              "      <td>2016</td>\n",
              "      <td>15+</td>\n",
              "      <td>total</td>\n",
              "      <td>0.9998657</td>\n",
              "    </tr>\n",
              "    <tr>\n",
              "      <th>458</th>\n",
              "      <td>Central and Southern Asia</td>\n",
              "      <td>Uzbekistan</td>\n",
              "      <td>2016</td>\n",
              "      <td>15-24</td>\n",
              "      <td>female</td>\n",
              "      <td>1</td>\n",
              "    </tr>\n",
              "    <tr>\n",
              "      <th>459</th>\n",
              "      <td>Central and Southern Asia</td>\n",
              "      <td>Uzbekistan</td>\n",
              "      <td>2016</td>\n",
              "      <td>15-24</td>\n",
              "      <td>male</td>\n",
              "      <td>1</td>\n",
              "    </tr>\n",
              "    <tr>\n",
              "      <th>460</th>\n",
              "      <td>Central and Southern Asia</td>\n",
              "      <td>Uzbekistan</td>\n",
              "      <td>2016</td>\n",
              "      <td>15-24</td>\n",
              "      <td>total</td>\n",
              "      <td>1</td>\n",
              "    </tr>\n",
              "    <tr>\n",
              "      <th>461</th>\n",
              "      <td>Central and Southern Asia</td>\n",
              "      <td>Uzbekistan</td>\n",
              "      <td>2016</td>\n",
              "      <td>25-64</td>\n",
              "      <td>female</td>\n",
              "      <td>1</td>\n",
              "    </tr>\n",
              "    <tr>\n",
              "      <th>462</th>\n",
              "      <td>Central and Southern Asia</td>\n",
              "      <td>Uzbekistan</td>\n",
              "      <td>2016</td>\n",
              "      <td>25-64</td>\n",
              "      <td>male</td>\n",
              "      <td>1</td>\n",
              "    </tr>\n",
              "    <tr>\n",
              "      <th>463</th>\n",
              "      <td>Central and Southern Asia</td>\n",
              "      <td>Uzbekistan</td>\n",
              "      <td>2016</td>\n",
              "      <td>25-64</td>\n",
              "      <td>total</td>\n",
              "      <td>1</td>\n",
              "    </tr>\n",
              "    <tr>\n",
              "      <th>464</th>\n",
              "      <td>NaN</td>\n",
              "      <td>Uzbekistan</td>\n",
              "      <td>2016</td>\n",
              "      <td>65+</td>\n",
              "      <td>female</td>\n",
              "      <td>0.9966975</td>\n",
              "    </tr>\n",
              "    <tr>\n",
              "      <th>465</th>\n",
              "      <td>NaN</td>\n",
              "      <td>Uzbekistan</td>\n",
              "      <td>2016</td>\n",
              "      <td>65+</td>\n",
              "      <td>male</td>\n",
              "      <td>0.9990176</td>\n",
              "    </tr>\n",
              "    <tr>\n",
              "      <th>466</th>\n",
              "      <td>NaN</td>\n",
              "      <td>Uzbekistan</td>\n",
              "      <td>2016</td>\n",
              "      <td>65+</td>\n",
              "      <td>total</td>\n",
              "      <td>0.9977188</td>\n",
              "    </tr>\n",
              "  </tbody>\n",
              "</table>\n",
              "</div>\n",
              "      <button class=\"colab-df-convert\" onclick=\"convertToInteractive('df-1ec553f3-a814-49d7-b74c-12af13109fea')\"\n",
              "              title=\"Convert this dataframe to an interactive table.\"\n",
              "              style=\"display:none;\">\n",
              "        \n",
              "  <svg xmlns=\"http://www.w3.org/2000/svg\" height=\"24px\"viewBox=\"0 0 24 24\"\n",
              "       width=\"24px\">\n",
              "    <path d=\"M0 0h24v24H0V0z\" fill=\"none\"/>\n",
              "    <path d=\"M18.56 5.44l.94 2.06.94-2.06 2.06-.94-2.06-.94-.94-2.06-.94 2.06-2.06.94zm-11 1L8.5 8.5l.94-2.06 2.06-.94-2.06-.94L8.5 2.5l-.94 2.06-2.06.94zm10 10l.94 2.06.94-2.06 2.06-.94-2.06-.94-.94-2.06-.94 2.06-2.06.94z\"/><path d=\"M17.41 7.96l-1.37-1.37c-.4-.4-.92-.59-1.43-.59-.52 0-1.04.2-1.43.59L10.3 9.45l-7.72 7.72c-.78.78-.78 2.05 0 2.83L4 21.41c.39.39.9.59 1.41.59.51 0 1.02-.2 1.41-.59l7.78-7.78 2.81-2.81c.8-.78.8-2.07 0-2.86zM5.41 20L4 18.59l7.72-7.72 1.47 1.35L5.41 20z\"/>\n",
              "  </svg>\n",
              "      </button>\n",
              "      \n",
              "  <style>\n",
              "    .colab-df-container {\n",
              "      display:flex;\n",
              "      flex-wrap:wrap;\n",
              "      gap: 12px;\n",
              "    }\n",
              "\n",
              "    .colab-df-convert {\n",
              "      background-color: #E8F0FE;\n",
              "      border: none;\n",
              "      border-radius: 50%;\n",
              "      cursor: pointer;\n",
              "      display: none;\n",
              "      fill: #1967D2;\n",
              "      height: 32px;\n",
              "      padding: 0 0 0 0;\n",
              "      width: 32px;\n",
              "    }\n",
              "\n",
              "    .colab-df-convert:hover {\n",
              "      background-color: #E2EBFA;\n",
              "      box-shadow: 0px 1px 2px rgba(60, 64, 67, 0.3), 0px 1px 3px 1px rgba(60, 64, 67, 0.15);\n",
              "      fill: #174EA6;\n",
              "    }\n",
              "\n",
              "    [theme=dark] .colab-df-convert {\n",
              "      background-color: #3B4455;\n",
              "      fill: #D2E3FC;\n",
              "    }\n",
              "\n",
              "    [theme=dark] .colab-df-convert:hover {\n",
              "      background-color: #434B5C;\n",
              "      box-shadow: 0px 1px 3px 1px rgba(0, 0, 0, 0.15);\n",
              "      filter: drop-shadow(0px 1px 2px rgba(0, 0, 0, 0.3));\n",
              "      fill: #FFFFFF;\n",
              "    }\n",
              "  </style>\n",
              "\n",
              "      <script>\n",
              "        const buttonEl =\n",
              "          document.querySelector('#df-1ec553f3-a814-49d7-b74c-12af13109fea button.colab-df-convert');\n",
              "        buttonEl.style.display =\n",
              "          google.colab.kernel.accessAllowed ? 'block' : 'none';\n",
              "\n",
              "        async function convertToInteractive(key) {\n",
              "          const element = document.querySelector('#df-1ec553f3-a814-49d7-b74c-12af13109fea');\n",
              "          const dataTable =\n",
              "            await google.colab.kernel.invokeFunction('convertToInteractive',\n",
              "                                                     [key], {});\n",
              "          if (!dataTable) return;\n",
              "\n",
              "          const docLinkHtml = 'Like what you see? Visit the ' +\n",
              "            '<a target=\"_blank\" href=https://colab.research.google.com/notebooks/data_table.ipynb>data table notebook</a>'\n",
              "            + ' to learn more about interactive tables.';\n",
              "          element.innerHTML = '';\n",
              "          dataTable['output_type'] = 'display_data';\n",
              "          await google.colab.output.renderOutput(dataTable, element);\n",
              "          const docLink = document.createElement('div');\n",
              "          docLink.innerHTML = docLinkHtml;\n",
              "          element.appendChild(docLink);\n",
              "        }\n",
              "      </script>\n",
              "    </div>\n",
              "  </div>\n",
              "  "
            ]
          },
          "metadata": {},
          "execution_count": 7
        }
      ]
    },
    {
      "cell_type": "markdown",
      "source": [
        "In looking at the data and rows with the same countries I can see that the region for all missing values should be Central & Southern Asia"
      ],
      "metadata": {
        "id": "79d8S8rCa6i1"
      }
    },
    {
      "cell_type": "code",
      "source": [
        "# fill in missing values with findings\n",
        "df['Region'].fillna(\"Central and Southern Asia\", inplace=True)"
      ],
      "metadata": {
        "id": "EwshSUMraVWG"
      },
      "execution_count": 8,
      "outputs": []
    },
    {
      "cell_type": "code",
      "source": [
        "df.isna().sum()"
      ],
      "metadata": {
        "colab": {
          "base_uri": "https://localhost:8080/"
        },
        "id": "OMfnDHgAbfxu",
        "outputId": "68ab3092-f46b-4596-eb15-6a61cea4d740"
      },
      "execution_count": 9,
      "outputs": [
        {
          "output_type": "execute_result",
          "data": {
            "text/plain": [
              "Region           0\n",
              "Country          0\n",
              "Year             0\n",
              "Age              0\n",
              "Gender           0\n",
              "Literacy rate    0\n",
              "dtype: int64"
            ]
          },
          "metadata": {},
          "execution_count": 9
        }
      ]
    },
    {
      "cell_type": "code",
      "source": [
        "# check data types\n",
        "df.dtypes"
      ],
      "metadata": {
        "colab": {
          "base_uri": "https://localhost:8080/"
        },
        "id": "kHyFgSdZbhgn",
        "outputId": "3fc69f4e-4fcc-4470-935e-2dd42e993e0f"
      },
      "execution_count": 10,
      "outputs": [
        {
          "output_type": "execute_result",
          "data": {
            "text/plain": [
              "Region           object\n",
              "Country          object\n",
              "Year              int64\n",
              "Age              object\n",
              "Gender           object\n",
              "Literacy rate    object\n",
              "dtype: object"
            ]
          },
          "metadata": {},
          "execution_count": 10
        }
      ]
    },
    {
      "cell_type": "markdown",
      "source": [
        "Literacy Rate should be a float but it is an object"
      ],
      "metadata": {
        "id": "GOdm5pEJdPwh"
      }
    },
    {
      "cell_type": "code",
      "source": [
        "df['Literacy rate'].sort_values()"
      ],
      "metadata": {
        "colab": {
          "base_uri": "https://localhost:8080/"
        },
        "id": "mUyOetRLdMRo",
        "outputId": "389ad1c7-8293-4212-d3d5-35c671b9e794"
      },
      "execution_count": 11,
      "outputs": [
        {
          "output_type": "execute_result",
          "data": {
            "text/plain": [
              "4688     0.004025\n",
              "3989    0.0054559\n",
              "4700    0.0071783\n",
              "3821    0.0135646\n",
              "4385    0.0156074\n",
              "          ...    \n",
              "426             1\n",
              "425             1\n",
              "451             1\n",
              "422             1\n",
              "18         45.38%\n",
              "Name: Literacy rate, Length: 4955, dtype: object"
            ]
          },
          "metadata": {},
          "execution_count": 11
        }
      ]
    },
    {
      "cell_type": "markdown",
      "source": [
        "Recognize 2 things:\n",
        "- Someone added a % sign whihc made it an object\n",
        "- 1 is the highest value (outside of problem row) so I will assume that 1 = 100% meani I will have to convert this value as well."
      ],
      "metadata": {
        "id": "3Orfsfszdybu"
      }
    },
    {
      "cell_type": "code",
      "source": [
        "percent_filter = df['Literacy rate'].str.contains('%')\n",
        "df[percent_filter]"
      ],
      "metadata": {
        "colab": {
          "base_uri": "https://localhost:8080/",
          "height": 81
        },
        "id": "GBSnn4ZUeNGB",
        "outputId": "6ddb9059-161a-4318-f3e0-a513236f1217"
      },
      "execution_count": 12,
      "outputs": [
        {
          "output_type": "execute_result",
          "data": {
            "text/plain": [
              "                       Region      Country  Year    Age Gender Literacy rate\n",
              "18  Central and Southern Asia  Afghanistan  2018  25-64   male        45.38%"
            ],
            "text/html": [
              "\n",
              "  <div id=\"df-9ffa1830-67c5-4776-94a9-6f841e8c5751\">\n",
              "    <div class=\"colab-df-container\">\n",
              "      <div>\n",
              "<style scoped>\n",
              "    .dataframe tbody tr th:only-of-type {\n",
              "        vertical-align: middle;\n",
              "    }\n",
              "\n",
              "    .dataframe tbody tr th {\n",
              "        vertical-align: top;\n",
              "    }\n",
              "\n",
              "    .dataframe thead th {\n",
              "        text-align: right;\n",
              "    }\n",
              "</style>\n",
              "<table border=\"1\" class=\"dataframe\">\n",
              "  <thead>\n",
              "    <tr style=\"text-align: right;\">\n",
              "      <th></th>\n",
              "      <th>Region</th>\n",
              "      <th>Country</th>\n",
              "      <th>Year</th>\n",
              "      <th>Age</th>\n",
              "      <th>Gender</th>\n",
              "      <th>Literacy rate</th>\n",
              "    </tr>\n",
              "  </thead>\n",
              "  <tbody>\n",
              "    <tr>\n",
              "      <th>18</th>\n",
              "      <td>Central and Southern Asia</td>\n",
              "      <td>Afghanistan</td>\n",
              "      <td>2018</td>\n",
              "      <td>25-64</td>\n",
              "      <td>male</td>\n",
              "      <td>45.38%</td>\n",
              "    </tr>\n",
              "  </tbody>\n",
              "</table>\n",
              "</div>\n",
              "      <button class=\"colab-df-convert\" onclick=\"convertToInteractive('df-9ffa1830-67c5-4776-94a9-6f841e8c5751')\"\n",
              "              title=\"Convert this dataframe to an interactive table.\"\n",
              "              style=\"display:none;\">\n",
              "        \n",
              "  <svg xmlns=\"http://www.w3.org/2000/svg\" height=\"24px\"viewBox=\"0 0 24 24\"\n",
              "       width=\"24px\">\n",
              "    <path d=\"M0 0h24v24H0V0z\" fill=\"none\"/>\n",
              "    <path d=\"M18.56 5.44l.94 2.06.94-2.06 2.06-.94-2.06-.94-.94-2.06-.94 2.06-2.06.94zm-11 1L8.5 8.5l.94-2.06 2.06-.94-2.06-.94L8.5 2.5l-.94 2.06-2.06.94zm10 10l.94 2.06.94-2.06 2.06-.94-2.06-.94-.94-2.06-.94 2.06-2.06.94z\"/><path d=\"M17.41 7.96l-1.37-1.37c-.4-.4-.92-.59-1.43-.59-.52 0-1.04.2-1.43.59L10.3 9.45l-7.72 7.72c-.78.78-.78 2.05 0 2.83L4 21.41c.39.39.9.59 1.41.59.51 0 1.02-.2 1.41-.59l7.78-7.78 2.81-2.81c.8-.78.8-2.07 0-2.86zM5.41 20L4 18.59l7.72-7.72 1.47 1.35L5.41 20z\"/>\n",
              "  </svg>\n",
              "      </button>\n",
              "      \n",
              "  <style>\n",
              "    .colab-df-container {\n",
              "      display:flex;\n",
              "      flex-wrap:wrap;\n",
              "      gap: 12px;\n",
              "    }\n",
              "\n",
              "    .colab-df-convert {\n",
              "      background-color: #E8F0FE;\n",
              "      border: none;\n",
              "      border-radius: 50%;\n",
              "      cursor: pointer;\n",
              "      display: none;\n",
              "      fill: #1967D2;\n",
              "      height: 32px;\n",
              "      padding: 0 0 0 0;\n",
              "      width: 32px;\n",
              "    }\n",
              "\n",
              "    .colab-df-convert:hover {\n",
              "      background-color: #E2EBFA;\n",
              "      box-shadow: 0px 1px 2px rgba(60, 64, 67, 0.3), 0px 1px 3px 1px rgba(60, 64, 67, 0.15);\n",
              "      fill: #174EA6;\n",
              "    }\n",
              "\n",
              "    [theme=dark] .colab-df-convert {\n",
              "      background-color: #3B4455;\n",
              "      fill: #D2E3FC;\n",
              "    }\n",
              "\n",
              "    [theme=dark] .colab-df-convert:hover {\n",
              "      background-color: #434B5C;\n",
              "      box-shadow: 0px 1px 3px 1px rgba(0, 0, 0, 0.15);\n",
              "      filter: drop-shadow(0px 1px 2px rgba(0, 0, 0, 0.3));\n",
              "      fill: #FFFFFF;\n",
              "    }\n",
              "  </style>\n",
              "\n",
              "      <script>\n",
              "        const buttonEl =\n",
              "          document.querySelector('#df-9ffa1830-67c5-4776-94a9-6f841e8c5751 button.colab-df-convert');\n",
              "        buttonEl.style.display =\n",
              "          google.colab.kernel.accessAllowed ? 'block' : 'none';\n",
              "\n",
              "        async function convertToInteractive(key) {\n",
              "          const element = document.querySelector('#df-9ffa1830-67c5-4776-94a9-6f841e8c5751');\n",
              "          const dataTable =\n",
              "            await google.colab.kernel.invokeFunction('convertToInteractive',\n",
              "                                                     [key], {});\n",
              "          if (!dataTable) return;\n",
              "\n",
              "          const docLinkHtml = 'Like what you see? Visit the ' +\n",
              "            '<a target=\"_blank\" href=https://colab.research.google.com/notebooks/data_table.ipynb>data table notebook</a>'\n",
              "            + ' to learn more about interactive tables.';\n",
              "          element.innerHTML = '';\n",
              "          dataTable['output_type'] = 'display_data';\n",
              "          await google.colab.output.renderOutput(dataTable, element);\n",
              "          const docLink = document.createElement('div');\n",
              "          docLink.innerHTML = docLinkHtml;\n",
              "          element.appendChild(docLink);\n",
              "        }\n",
              "      </script>\n",
              "    </div>\n",
              "  </div>\n",
              "  "
            ]
          },
          "metadata": {},
          "execution_count": 12
        }
      ]
    },
    {
      "cell_type": "code",
      "source": [
        "df['Literacy rate'] = df['Literacy rate'].str.replace('%', '')"
      ],
      "metadata": {
        "id": "9AeaJG_3fEll"
      },
      "execution_count": 13,
      "outputs": []
    },
    {
      "cell_type": "code",
      "source": [
        "df.dtypes"
      ],
      "metadata": {
        "colab": {
          "base_uri": "https://localhost:8080/"
        },
        "id": "MYQEhKnkfizG",
        "outputId": "709191ca-2d18-4393-a2a9-0c2c56547333"
      },
      "execution_count": 14,
      "outputs": [
        {
          "output_type": "execute_result",
          "data": {
            "text/plain": [
              "Region           object\n",
              "Country          object\n",
              "Year              int64\n",
              "Age              object\n",
              "Gender           object\n",
              "Literacy rate    object\n",
              "dtype: object"
            ]
          },
          "metadata": {},
          "execution_count": 14
        }
      ]
    },
    {
      "cell_type": "code",
      "source": [
        "df['Literacy rate'] = df['Literacy rate'].astype(float)"
      ],
      "metadata": {
        "id": "q3NNABenflDr"
      },
      "execution_count": 15,
      "outputs": []
    },
    {
      "cell_type": "code",
      "source": [
        "df['Literacy rate'].sort_values()"
      ],
      "metadata": {
        "colab": {
          "base_uri": "https://localhost:8080/"
        },
        "id": "DMjgZlomfwJO",
        "outputId": "54b2dc9d-10c8-468a-eab7-61cea5fc80d5"
      },
      "execution_count": 16,
      "outputs": [
        {
          "output_type": "execute_result",
          "data": {
            "text/plain": [
              "4688     0.004025\n",
              "3989     0.005456\n",
              "4700     0.007178\n",
              "3821     0.013565\n",
              "4385     0.015607\n",
              "          ...    \n",
              "426      1.000000\n",
              "425      1.000000\n",
              "451      1.000000\n",
              "422      1.000000\n",
              "18      45.380000\n",
              "Name: Literacy rate, Length: 4955, dtype: float64"
            ]
          },
          "metadata": {},
          "execution_count": 16
        }
      ]
    },
    {
      "cell_type": "code",
      "source": [
        "df.loc[percent_filter, 'Literacy rate'] = df.loc[percent_filter, 'Literacy rate'] / 100"
      ],
      "metadata": {
        "id": "WRWIK9sif1k-"
      },
      "execution_count": 17,
      "outputs": []
    },
    {
      "cell_type": "code",
      "source": [
        "df.loc[percent_filter, 'Literacy rate']"
      ],
      "metadata": {
        "colab": {
          "base_uri": "https://localhost:8080/"
        },
        "id": "7kw-63rNgF2G",
        "outputId": "91917a75-7f52-41fc-a231-a5715aedca49"
      },
      "execution_count": 18,
      "outputs": [
        {
          "output_type": "execute_result",
          "data": {
            "text/plain": [
              "18    0.4538\n",
              "Name: Literacy rate, dtype: float64"
            ]
          },
          "metadata": {},
          "execution_count": 18
        }
      ]
    },
    {
      "cell_type": "markdown",
      "source": [
        "### Identify any Inconsistencies with Data"
      ],
      "metadata": {
        "id": "C7AYmgmLgpDd"
      }
    },
    {
      "cell_type": "code",
      "source": [
        "dtypes = df.dtypes\n",
        "str_cols = dtypes[dtypes=='object'].index\n",
        "str_cols"
      ],
      "metadata": {
        "colab": {
          "base_uri": "https://localhost:8080/"
        },
        "id": "uRvDKF6NgQkp",
        "outputId": "6c831f54-4c6b-41bd-d627-5d91bcfea7ee"
      },
      "execution_count": 19,
      "outputs": [
        {
          "output_type": "execute_result",
          "data": {
            "text/plain": [
              "Index(['Region', 'Country', 'Age', 'Gender'], dtype='object')"
            ]
          },
          "metadata": {},
          "execution_count": 19
        }
      ]
    },
    {
      "cell_type": "code",
      "source": [
        "for col in str_cols:\n",
        "    print(f\"- Column= {col}\")\n",
        "    print(df[col].value_counts(dropna=False))\n",
        "    print('\\n\\n')"
      ],
      "metadata": {
        "colab": {
          "base_uri": "https://localhost:8080/"
        },
        "id": "dFfjynAkgwd5",
        "outputId": "507ef386-ea55-4461-9d75-577335d54bec"
      },
      "execution_count": 20,
      "outputs": [
        {
          "output_type": "stream",
          "name": "stdout",
          "text": [
            "- Column= Region\n",
            "Latin America and the Caribbean     1410\n",
            "Sub-Saharan Africa                  1155\n",
            "Northern Africa and Western Asia     852\n",
            "Europe and Northern America          504\n",
            "Central and Southern Asia            467\n",
            "Eastern and South-Eastern Asia       423\n",
            "Oceania                              144\n",
            "Name: Region, dtype: int64\n",
            "\n",
            "\n",
            "\n",
            "- Column= Country\n",
            "Mexico                 108\n",
            "Uruguay                108\n",
            "Brazil                 108\n",
            "Palestine               96\n",
            "Turkey                  96\n",
            "                      ... \n",
            "Trinidad and Tobago     12\n",
            "Greece                  12\n",
            "Estonia                 12\n",
            "Hungary                 12\n",
            "Antigua and Barbuda      6\n",
            "Name: Country, Length: 155, dtype: int64\n",
            "\n",
            "\n",
            "\n",
            "- Column= Age\n",
            "15+      1260\n",
            "15-24    1239\n",
            "25-64    1239\n",
            "65+      1217\n",
            "Name: Age, dtype: int64\n",
            "\n",
            "\n",
            "\n",
            "- Column= Gender\n",
            "female    1652\n",
            "total     1652\n",
            "male      1651\n",
            "Name: Gender, dtype: int64\n",
            "\n",
            "\n",
            "\n"
          ]
        }
      ]
    },
    {
      "cell_type": "code",
      "source": [
        "pd.set_option('display.max_rows', None)\n",
        "df['Country'].value_counts()"
      ],
      "metadata": {
        "colab": {
          "base_uri": "https://localhost:8080/"
        },
        "id": "dkvjLAOjmflJ",
        "outputId": "a8470a82-6b48-4da3-ed60-a53ce2c384ef"
      },
      "execution_count": 21,
      "outputs": [
        {
          "output_type": "execute_result",
          "data": {
            "text/plain": [
              "Mexico                                        108\n",
              "Uruguay                                       108\n",
              "Brazil                                        108\n",
              "Palestine                                      96\n",
              "Turkey                                         96\n",
              "Bangladesh                                     96\n",
              "Argentina                                      96\n",
              "Azerbaijan                                     96\n",
              "Ecuador                                        96\n",
              "Spain                                          96\n",
              "Honduras                                       96\n",
              "Singapore                                      87\n",
              "Dominican Republic                             84\n",
              "Paraguay                                       84\n",
              "Kuwait                                         72\n",
              "Oman                                           72\n",
              "Colombia                                       72\n",
              "El Salvador                                    72\n",
              "South Africa                                   72\n",
              "Pakistan                                       72\n",
              "Peru                                           72\n",
              "Indonesia                                      60\n",
              "Qatar                                          48\n",
              "Iran (Islamic Republic of)                     48\n",
              "Tunisia                                        48\n",
              "Jordan                                         48\n",
              "Bahrain                                        48\n",
              "Egypt                                          48\n",
              "Uzbekistan                                     48\n",
              "Rwanda                                         48\n",
              "Chile                                          48\n",
              "Mali                                           48\n",
              "Mauritius                                      39\n",
              "Serbia                                         36\n",
              "Bolivia (Plurinational State of)               36\n",
              "Venezuela (Bolivarian Republic of)             36\n",
              "Côte d'Ivoire                                  36\n",
              "Morocco                                        36\n",
              "Guatemala                                      36\n",
              "Albania                                        36\n",
              "Malawi                                         36\n",
              "Senegal                                        36\n",
              "Sri Lanka                                      36\n",
              "Suriname                                       36\n",
              "Uganda                                         36\n",
              "United Republic of Tanzania                    36\n",
              "Thailand                                       36\n",
              "Iraq                                           24\n",
              "Georgia                                        24\n",
              "Saudi Arabia                                   24\n",
              "Puerto Rico                                    24\n",
              "Palau                                          24\n",
              "Gabon                                          24\n",
              "Zambia                                         24\n",
              "Togo                                           24\n",
              "Swaziland                                      24\n",
              "Sierra Leone                                   24\n",
              "Seychelles                                     24\n",
              "Sao Tome and Principe                          24\n",
              "Namibia                                        24\n",
              "Mozambique                                     24\n",
              "Madagascar                                     24\n",
              "Kenya                                          24\n",
              "Guinea                                         24\n",
              "Ghana                                          24\n",
              "Gambia                                         24\n",
              "Equatorial Guinea                              24\n",
              "Samoa                                          24\n",
              "Democratic Republic of the Congo               24\n",
              "Congo                                          24\n",
              "Comoros                                        24\n",
              "Chad                                           24\n",
              "Central African Republic                       24\n",
              "Cameroon                                       24\n",
              "Cabo Verde                                     24\n",
              "Armenia                                        24\n",
              "Burkina Faso                                   24\n",
              "Botswana                                       24\n",
              "Benin                                          24\n",
              "Vanuatu                                        24\n",
              "Tonga                                          24\n",
              "Burundi                                        24\n",
              "Zimbabwe                                       24\n",
              "Lao People's Democratic Republic               24\n",
              "Philippines                                    24\n",
              "Russian Federation                             24\n",
              "Malaysia                                       24\n",
              "Romania                                        24\n",
              "China, Macao Special Administrative Region     24\n",
              "Republic of Moldova                            24\n",
              "Portugal                                       24\n",
              "Aruba                                          24\n",
              "China                                          24\n",
              "Cambodia                                       24\n",
              "Costa Rica                                     24\n",
              "Brunei Darussalam                              24\n",
              "Montenegro                                     24\n",
              "Malta                                          24\n",
              "Nepal                                          24\n",
              "Timor-Leste                                    24\n",
              "Maldives                                       24\n",
              "Italy                                          24\n",
              "Bosnia and Herzegovina                         24\n",
              "India                                          24\n",
              "Bhutan                                         24\n",
              "Panama                                         24\n",
              "Mongolia                                       24\n",
              "Afghanistan                                    23\n",
              "Myanmar                                        12\n",
              "Liberia                                        12\n",
              "Mauritania                                     12\n",
              "Ethiopia                                       12\n",
              "Niger                                          12\n",
              "Nigeria                                        12\n",
              "Turkmenistan                                   12\n",
              "Tajikistan                                     12\n",
              "Lesotho                                        12\n",
              "South Sudan                                    12\n",
              "Kyrgyzstan                                     12\n",
              "Guinea-Bissau                                  12\n",
              "Viet Nam                                       12\n",
              "Belarus                                        12\n",
              "Kazakhstan                                     12\n",
              "Bulgaria                                       12\n",
              "Algeria                                        12\n",
              "Eritrea                                        12\n",
              "Croatia                                        12\n",
              "Cyprus                                         12\n",
              "Nicaragua                                      12\n",
              "Martinique                                     12\n",
              "Jamaica                                        12\n",
              "Haiti                                          12\n",
              "Guyana                                         12\n",
              "Lebanon                                        12\n",
              "Guadeloupe                                     12\n",
              "Grenada                                        12\n",
              "Cuba                                           12\n",
              "Barbados                                       12\n",
              "Sudan                                          12\n",
              "Fiji                                           12\n",
              "Marshall Islands                               12\n",
              "New Caledonia                                  12\n",
              "Ukraine                                        12\n",
              "Papua New Guinea                               12\n",
              "The former Yugoslav Republic of Macedonia      12\n",
              "Slovenia                                       12\n",
              "San Marino                                     12\n",
              "Angola                                         12\n",
              "Lithuania                                      12\n",
              "Latvia                                         12\n",
              "Trinidad and Tobago                            12\n",
              "Greece                                         12\n",
              "Estonia                                        12\n",
              "Hungary                                        12\n",
              "Antigua and Barbuda                             6\n",
              "Name: Country, dtype: int64"
            ]
          },
          "metadata": {},
          "execution_count": 21
        }
      ]
    },
    {
      "cell_type": "code",
      "source": [
        "df['Age'].replace({'15+':'<15'}, inplace=True)\n",
        "df['Age'].value_counts()"
      ],
      "metadata": {
        "colab": {
          "base_uri": "https://localhost:8080/"
        },
        "id": "x3AigBwnhNEQ",
        "outputId": "83075e0c-611e-40de-9b14-059e5e917fa1"
      },
      "execution_count": 22,
      "outputs": [
        {
          "output_type": "execute_result",
          "data": {
            "text/plain": [
              "<15      1260\n",
              "15-24    1239\n",
              "25-64    1239\n",
              "65+      1217\n",
              "Name: Age, dtype: int64"
            ]
          },
          "metadata": {},
          "execution_count": 22
        }
      ]
    },
    {
      "cell_type": "code",
      "source": [
        "df.describe()"
      ],
      "metadata": {
        "id": "CH3DYDoOiV3P",
        "colab": {
          "base_uri": "https://localhost:8080/",
          "height": 300
        },
        "outputId": "6d78830f-6216-46a2-df47-45ba3a055a75"
      },
      "execution_count": 23,
      "outputs": [
        {
          "output_type": "execute_result",
          "data": {
            "text/plain": [
              "              Year  Literacy rate\n",
              "count  4955.000000    4955.000000\n",
              "mean   2013.987891       0.816947\n",
              "std       2.746204       0.232560\n",
              "min    2010.000000       0.004025\n",
              "25%    2011.000000       0.722507\n",
              "50%    2014.000000       0.930676\n",
              "75%    2016.000000       0.985078\n",
              "max    2018.000000       1.000000"
            ],
            "text/html": [
              "\n",
              "  <div id=\"df-75ae5b35-572c-45c5-9f51-12a528574900\">\n",
              "    <div class=\"colab-df-container\">\n",
              "      <div>\n",
              "<style scoped>\n",
              "    .dataframe tbody tr th:only-of-type {\n",
              "        vertical-align: middle;\n",
              "    }\n",
              "\n",
              "    .dataframe tbody tr th {\n",
              "        vertical-align: top;\n",
              "    }\n",
              "\n",
              "    .dataframe thead th {\n",
              "        text-align: right;\n",
              "    }\n",
              "</style>\n",
              "<table border=\"1\" class=\"dataframe\">\n",
              "  <thead>\n",
              "    <tr style=\"text-align: right;\">\n",
              "      <th></th>\n",
              "      <th>Year</th>\n",
              "      <th>Literacy rate</th>\n",
              "    </tr>\n",
              "  </thead>\n",
              "  <tbody>\n",
              "    <tr>\n",
              "      <th>count</th>\n",
              "      <td>4955.000000</td>\n",
              "      <td>4955.000000</td>\n",
              "    </tr>\n",
              "    <tr>\n",
              "      <th>mean</th>\n",
              "      <td>2013.987891</td>\n",
              "      <td>0.816947</td>\n",
              "    </tr>\n",
              "    <tr>\n",
              "      <th>std</th>\n",
              "      <td>2.746204</td>\n",
              "      <td>0.232560</td>\n",
              "    </tr>\n",
              "    <tr>\n",
              "      <th>min</th>\n",
              "      <td>2010.000000</td>\n",
              "      <td>0.004025</td>\n",
              "    </tr>\n",
              "    <tr>\n",
              "      <th>25%</th>\n",
              "      <td>2011.000000</td>\n",
              "      <td>0.722507</td>\n",
              "    </tr>\n",
              "    <tr>\n",
              "      <th>50%</th>\n",
              "      <td>2014.000000</td>\n",
              "      <td>0.930676</td>\n",
              "    </tr>\n",
              "    <tr>\n",
              "      <th>75%</th>\n",
              "      <td>2016.000000</td>\n",
              "      <td>0.985078</td>\n",
              "    </tr>\n",
              "    <tr>\n",
              "      <th>max</th>\n",
              "      <td>2018.000000</td>\n",
              "      <td>1.000000</td>\n",
              "    </tr>\n",
              "  </tbody>\n",
              "</table>\n",
              "</div>\n",
              "      <button class=\"colab-df-convert\" onclick=\"convertToInteractive('df-75ae5b35-572c-45c5-9f51-12a528574900')\"\n",
              "              title=\"Convert this dataframe to an interactive table.\"\n",
              "              style=\"display:none;\">\n",
              "        \n",
              "  <svg xmlns=\"http://www.w3.org/2000/svg\" height=\"24px\"viewBox=\"0 0 24 24\"\n",
              "       width=\"24px\">\n",
              "    <path d=\"M0 0h24v24H0V0z\" fill=\"none\"/>\n",
              "    <path d=\"M18.56 5.44l.94 2.06.94-2.06 2.06-.94-2.06-.94-.94-2.06-.94 2.06-2.06.94zm-11 1L8.5 8.5l.94-2.06 2.06-.94-2.06-.94L8.5 2.5l-.94 2.06-2.06.94zm10 10l.94 2.06.94-2.06 2.06-.94-2.06-.94-.94-2.06-.94 2.06-2.06.94z\"/><path d=\"M17.41 7.96l-1.37-1.37c-.4-.4-.92-.59-1.43-.59-.52 0-1.04.2-1.43.59L10.3 9.45l-7.72 7.72c-.78.78-.78 2.05 0 2.83L4 21.41c.39.39.9.59 1.41.59.51 0 1.02-.2 1.41-.59l7.78-7.78 2.81-2.81c.8-.78.8-2.07 0-2.86zM5.41 20L4 18.59l7.72-7.72 1.47 1.35L5.41 20z\"/>\n",
              "  </svg>\n",
              "      </button>\n",
              "      \n",
              "  <style>\n",
              "    .colab-df-container {\n",
              "      display:flex;\n",
              "      flex-wrap:wrap;\n",
              "      gap: 12px;\n",
              "    }\n",
              "\n",
              "    .colab-df-convert {\n",
              "      background-color: #E8F0FE;\n",
              "      border: none;\n",
              "      border-radius: 50%;\n",
              "      cursor: pointer;\n",
              "      display: none;\n",
              "      fill: #1967D2;\n",
              "      height: 32px;\n",
              "      padding: 0 0 0 0;\n",
              "      width: 32px;\n",
              "    }\n",
              "\n",
              "    .colab-df-convert:hover {\n",
              "      background-color: #E2EBFA;\n",
              "      box-shadow: 0px 1px 2px rgba(60, 64, 67, 0.3), 0px 1px 3px 1px rgba(60, 64, 67, 0.15);\n",
              "      fill: #174EA6;\n",
              "    }\n",
              "\n",
              "    [theme=dark] .colab-df-convert {\n",
              "      background-color: #3B4455;\n",
              "      fill: #D2E3FC;\n",
              "    }\n",
              "\n",
              "    [theme=dark] .colab-df-convert:hover {\n",
              "      background-color: #434B5C;\n",
              "      box-shadow: 0px 1px 3px 1px rgba(0, 0, 0, 0.15);\n",
              "      filter: drop-shadow(0px 1px 2px rgba(0, 0, 0, 0.3));\n",
              "      fill: #FFFFFF;\n",
              "    }\n",
              "  </style>\n",
              "\n",
              "      <script>\n",
              "        const buttonEl =\n",
              "          document.querySelector('#df-75ae5b35-572c-45c5-9f51-12a528574900 button.colab-df-convert');\n",
              "        buttonEl.style.display =\n",
              "          google.colab.kernel.accessAllowed ? 'block' : 'none';\n",
              "\n",
              "        async function convertToInteractive(key) {\n",
              "          const element = document.querySelector('#df-75ae5b35-572c-45c5-9f51-12a528574900');\n",
              "          const dataTable =\n",
              "            await google.colab.kernel.invokeFunction('convertToInteractive',\n",
              "                                                     [key], {});\n",
              "          if (!dataTable) return;\n",
              "\n",
              "          const docLinkHtml = 'Like what you see? Visit the ' +\n",
              "            '<a target=\"_blank\" href=https://colab.research.google.com/notebooks/data_table.ipynb>data table notebook</a>'\n",
              "            + ' to learn more about interactive tables.';\n",
              "          element.innerHTML = '';\n",
              "          dataTable['output_type'] = 'display_data';\n",
              "          await google.colab.output.renderOutput(dataTable, element);\n",
              "          const docLink = document.createElement('div');\n",
              "          docLink.innerHTML = docLinkHtml;\n",
              "          element.appendChild(docLink);\n",
              "        }\n",
              "      </script>\n",
              "    </div>\n",
              "  </div>\n",
              "  "
            ]
          },
          "metadata": {},
          "execution_count": 23
        }
      ]
    },
    {
      "cell_type": "markdown",
      "source": [
        "## Visualizations"
      ],
      "metadata": {
        "id": "WOwsBaY1jmzK"
      }
    },
    {
      "cell_type": "markdown",
      "source": [
        "Make a correlation map of the variables to see which are related."
      ],
      "metadata": {
        "id": "4VfLT2vzWR2K"
      }
    },
    {
      "cell_type": "code",
      "source": [
        "# map categorical values into numbers\n",
        "from sklearn.compose import make_column_selector\n",
        "\n",
        "df_temp = df.copy()\n",
        "\n",
        "# for each categorical columns\n",
        "cat_selector = make_column_selector(dtype_include='object')\n",
        "cat_data = df_temp[cat_selector(df_temp)]\n",
        "\n",
        "# for each categorical columns\n",
        "for c_name in cat_data.columns:\n",
        "    \n",
        "    # print the column name\n",
        "    print(c_name)\n",
        "\n",
        "    # get unique values from that column\n",
        "    values_list = df_temp[c_name].unique()\n",
        "\n",
        "    # initialize the dictionary (mapper)\n",
        "    col_dictionary = dict()\n",
        "\n",
        "    # for each value in that column\n",
        "    for index, value in enumerate(values_list):\n",
        "        \n",
        "        # add the 'value: index' to the dictionary\n",
        "        col_dictionary[value] = index\n",
        "\n",
        "    #print(col_dictionary)\n",
        "\n",
        "    # replace values in that column\n",
        "    df_temp[c_name].replace(col_dictionary, inplace=True)\n",
        "\n",
        "df_temp.head()"
      ],
      "metadata": {
        "colab": {
          "base_uri": "https://localhost:8080/",
          "height": 276
        },
        "id": "0tAjqvRFKfae",
        "outputId": "12fe4f5b-1dae-4203-ac26-2a7a3bee0a81"
      },
      "execution_count": 24,
      "outputs": [
        {
          "output_type": "stream",
          "name": "stdout",
          "text": [
            "Region\n",
            "Country\n",
            "Age\n",
            "Gender\n"
          ]
        },
        {
          "output_type": "execute_result",
          "data": {
            "text/plain": [
              "   Region  Country  Year  Age  Gender  Literacy rate\n",
              "0       0        0  2011    0       0       0.176121\n",
              "1       0        0  2011    0       1       0.454171\n",
              "2       0        0  2011    0       2       0.317411\n",
              "3       0        0  2011    1       0       0.321132\n",
              "4       0        0  2011    1       1       0.618791"
            ],
            "text/html": [
              "\n",
              "  <div id=\"df-5f2aea0d-f723-4d7d-87ee-d753f793f624\">\n",
              "    <div class=\"colab-df-container\">\n",
              "      <div>\n",
              "<style scoped>\n",
              "    .dataframe tbody tr th:only-of-type {\n",
              "        vertical-align: middle;\n",
              "    }\n",
              "\n",
              "    .dataframe tbody tr th {\n",
              "        vertical-align: top;\n",
              "    }\n",
              "\n",
              "    .dataframe thead th {\n",
              "        text-align: right;\n",
              "    }\n",
              "</style>\n",
              "<table border=\"1\" class=\"dataframe\">\n",
              "  <thead>\n",
              "    <tr style=\"text-align: right;\">\n",
              "      <th></th>\n",
              "      <th>Region</th>\n",
              "      <th>Country</th>\n",
              "      <th>Year</th>\n",
              "      <th>Age</th>\n",
              "      <th>Gender</th>\n",
              "      <th>Literacy rate</th>\n",
              "    </tr>\n",
              "  </thead>\n",
              "  <tbody>\n",
              "    <tr>\n",
              "      <th>0</th>\n",
              "      <td>0</td>\n",
              "      <td>0</td>\n",
              "      <td>2011</td>\n",
              "      <td>0</td>\n",
              "      <td>0</td>\n",
              "      <td>0.176121</td>\n",
              "    </tr>\n",
              "    <tr>\n",
              "      <th>1</th>\n",
              "      <td>0</td>\n",
              "      <td>0</td>\n",
              "      <td>2011</td>\n",
              "      <td>0</td>\n",
              "      <td>1</td>\n",
              "      <td>0.454171</td>\n",
              "    </tr>\n",
              "    <tr>\n",
              "      <th>2</th>\n",
              "      <td>0</td>\n",
              "      <td>0</td>\n",
              "      <td>2011</td>\n",
              "      <td>0</td>\n",
              "      <td>2</td>\n",
              "      <td>0.317411</td>\n",
              "    </tr>\n",
              "    <tr>\n",
              "      <th>3</th>\n",
              "      <td>0</td>\n",
              "      <td>0</td>\n",
              "      <td>2011</td>\n",
              "      <td>1</td>\n",
              "      <td>0</td>\n",
              "      <td>0.321132</td>\n",
              "    </tr>\n",
              "    <tr>\n",
              "      <th>4</th>\n",
              "      <td>0</td>\n",
              "      <td>0</td>\n",
              "      <td>2011</td>\n",
              "      <td>1</td>\n",
              "      <td>1</td>\n",
              "      <td>0.618791</td>\n",
              "    </tr>\n",
              "  </tbody>\n",
              "</table>\n",
              "</div>\n",
              "      <button class=\"colab-df-convert\" onclick=\"convertToInteractive('df-5f2aea0d-f723-4d7d-87ee-d753f793f624')\"\n",
              "              title=\"Convert this dataframe to an interactive table.\"\n",
              "              style=\"display:none;\">\n",
              "        \n",
              "  <svg xmlns=\"http://www.w3.org/2000/svg\" height=\"24px\"viewBox=\"0 0 24 24\"\n",
              "       width=\"24px\">\n",
              "    <path d=\"M0 0h24v24H0V0z\" fill=\"none\"/>\n",
              "    <path d=\"M18.56 5.44l.94 2.06.94-2.06 2.06-.94-2.06-.94-.94-2.06-.94 2.06-2.06.94zm-11 1L8.5 8.5l.94-2.06 2.06-.94-2.06-.94L8.5 2.5l-.94 2.06-2.06.94zm10 10l.94 2.06.94-2.06 2.06-.94-2.06-.94-.94-2.06-.94 2.06-2.06.94z\"/><path d=\"M17.41 7.96l-1.37-1.37c-.4-.4-.92-.59-1.43-.59-.52 0-1.04.2-1.43.59L10.3 9.45l-7.72 7.72c-.78.78-.78 2.05 0 2.83L4 21.41c.39.39.9.59 1.41.59.51 0 1.02-.2 1.41-.59l7.78-7.78 2.81-2.81c.8-.78.8-2.07 0-2.86zM5.41 20L4 18.59l7.72-7.72 1.47 1.35L5.41 20z\"/>\n",
              "  </svg>\n",
              "      </button>\n",
              "      \n",
              "  <style>\n",
              "    .colab-df-container {\n",
              "      display:flex;\n",
              "      flex-wrap:wrap;\n",
              "      gap: 12px;\n",
              "    }\n",
              "\n",
              "    .colab-df-convert {\n",
              "      background-color: #E8F0FE;\n",
              "      border: none;\n",
              "      border-radius: 50%;\n",
              "      cursor: pointer;\n",
              "      display: none;\n",
              "      fill: #1967D2;\n",
              "      height: 32px;\n",
              "      padding: 0 0 0 0;\n",
              "      width: 32px;\n",
              "    }\n",
              "\n",
              "    .colab-df-convert:hover {\n",
              "      background-color: #E2EBFA;\n",
              "      box-shadow: 0px 1px 2px rgba(60, 64, 67, 0.3), 0px 1px 3px 1px rgba(60, 64, 67, 0.15);\n",
              "      fill: #174EA6;\n",
              "    }\n",
              "\n",
              "    [theme=dark] .colab-df-convert {\n",
              "      background-color: #3B4455;\n",
              "      fill: #D2E3FC;\n",
              "    }\n",
              "\n",
              "    [theme=dark] .colab-df-convert:hover {\n",
              "      background-color: #434B5C;\n",
              "      box-shadow: 0px 1px 3px 1px rgba(0, 0, 0, 0.15);\n",
              "      filter: drop-shadow(0px 1px 2px rgba(0, 0, 0, 0.3));\n",
              "      fill: #FFFFFF;\n",
              "    }\n",
              "  </style>\n",
              "\n",
              "      <script>\n",
              "        const buttonEl =\n",
              "          document.querySelector('#df-5f2aea0d-f723-4d7d-87ee-d753f793f624 button.colab-df-convert');\n",
              "        buttonEl.style.display =\n",
              "          google.colab.kernel.accessAllowed ? 'block' : 'none';\n",
              "\n",
              "        async function convertToInteractive(key) {\n",
              "          const element = document.querySelector('#df-5f2aea0d-f723-4d7d-87ee-d753f793f624');\n",
              "          const dataTable =\n",
              "            await google.colab.kernel.invokeFunction('convertToInteractive',\n",
              "                                                     [key], {});\n",
              "          if (!dataTable) return;\n",
              "\n",
              "          const docLinkHtml = 'Like what you see? Visit the ' +\n",
              "            '<a target=\"_blank\" href=https://colab.research.google.com/notebooks/data_table.ipynb>data table notebook</a>'\n",
              "            + ' to learn more about interactive tables.';\n",
              "          element.innerHTML = '';\n",
              "          dataTable['output_type'] = 'display_data';\n",
              "          await google.colab.output.renderOutput(dataTable, element);\n",
              "          const docLink = document.createElement('div');\n",
              "          docLink.innerHTML = docLinkHtml;\n",
              "          element.appendChild(docLink);\n",
              "        }\n",
              "      </script>\n",
              "    </div>\n",
              "  </div>\n",
              "  "
            ]
          },
          "metadata": {},
          "execution_count": 24
        }
      ]
    },
    {
      "cell_type": "code",
      "source": [
        "# create a correlation between the columns\n",
        "correlation = df_temp.corr()\n",
        "\n",
        "# plot\n",
        "plt.figure(figsize=(10,10))\n",
        "sns.heatmap(correlation, cmap='Blues', annot=True);"
      ],
      "metadata": {
        "colab": {
          "base_uri": "https://localhost:8080/",
          "height": 596
        },
        "id": "xp1RjdDMHek7",
        "outputId": "615475c4-40be-49db-ef73-aee5547ca22f"
      },
      "execution_count": 25,
      "outputs": [
        {
          "output_type": "display_data",
          "data": {
            "text/plain": [
              "<Figure size 720x720 with 2 Axes>"
            ],
            "image/png": "[encoded data removed]"
          },
          "metadata": {
            "needs_background": "light"
          }
        }
      ]
    },
    {
      "cell_type": "markdown",
      "source": [
        "### Univariate Analysis"
      ],
      "metadata": {
        "id": "wYBtnRWOaTDe"
      }
    },
    {
      "cell_type": "code",
      "source": [
        "# use histogram to look at dictribution of Literacy Rates\n",
        "sns.histplot(data=df, x='Literacy rate');"
      ],
      "metadata": {
        "colab": {
          "base_uri": "https://localhost:8080/",
          "height": 279
        },
        "id": "QGMyhMaWjcBs",
        "outputId": "e0ca19d1-72ac-4faa-9e57-df81387200b9"
      },
      "execution_count": 26,
      "outputs": [
        {
          "output_type": "display_data",
          "data": {
            "text/plain": [
              "<Figure size 432x288 with 1 Axes>"
            ],
            "image/png": "[encoded data removed]"
          },
          "metadata": {
            "needs_background": "light"
          }
        }
      ]
    },
    {
      "cell_type": "code",
      "source": [
        "# create a barplot using 'Region'\n",
        "\n",
        "# get value counts and sort by index\n",
        "temp = df['Region'].value_counts()\n",
        "temp = temp.sort_index()\n",
        "\n",
        "# barplot\n",
        "sns.barplot(y=temp.keys(), x=temp.values);"
      ],
      "metadata": {
        "colab": {
          "base_uri": "https://localhost:8080/",
          "height": 265
        },
        "id": "D-lgJ-zqY9a9",
        "outputId": "43e999c9-de7c-427d-8ecb-2999f63c4bf9"
      },
      "execution_count": 27,
      "outputs": [
        {
          "output_type": "display_data",
          "data": {
            "text/plain": [
              "<Figure size 432x288 with 1 Axes>"
            ],
            "image/png": "[encoded data removed]"
          },
          "metadata": {
            "needs_background": "light"
          }
        }
      ]
    },
    {
      "cell_type": "markdown",
      "source": [
        "### Multivariate Analysis"
      ],
      "metadata": {
        "id": "8WYHQmENaZ-d"
      }
    },
    {
      "cell_type": "code",
      "source": [
        "# create a boxplot using 'Literacy rate' and 'Gender'\n",
        "sns.boxplot(data=df, x='Literacy rate', y='Gender');"
      ],
      "metadata": {
        "colab": {
          "base_uri": "https://localhost:8080/",
          "height": 279
        },
        "id": "CwjR-z4CktP6",
        "outputId": "9feba8e5-9f96-4bbb-f146-1e588ed56d6d"
      },
      "execution_count": 28,
      "outputs": [
        {
          "output_type": "display_data",
          "data": {
            "text/plain": [
              "<Figure size 432x288 with 1 Axes>"
            ],
            "image/png": "[encoded data removed]"
          },
          "metadata": {
            "needs_background": "light"
          }
        }
      ]
    },
    {
      "cell_type": "code",
      "source": [
        "# create a barplot using 'Literacy rate' and 'Region'\n",
        "sns.barplot(data=df, x='Literacy rate', y='Region');"
      ],
      "metadata": {
        "colab": {
          "base_uri": "https://localhost:8080/",
          "height": 279
        },
        "id": "JGKex3XRk5A5",
        "outputId": "649b2d3f-93cd-49c6-a6ae-7404f27959b3"
      },
      "execution_count": 29,
      "outputs": [
        {
          "output_type": "display_data",
          "data": {
            "text/plain": [
              "<Figure size 432x288 with 1 Axes>"
            ],
            "image/png": "[encoded data removed]"
          },
          "metadata": {
            "needs_background": "light"
          }
        }
      ]
    }
  ]
}